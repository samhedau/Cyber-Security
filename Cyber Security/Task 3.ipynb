{
 "cells": [
  {
   "cell_type": "code",
   "execution_count": 4,
   "id": "74785703",
   "metadata": {},
   "outputs": [],
   "source": [
    "import pandas as pd\n",
    "import os\n",
    "\n"
   ]
  },
  {
   "cell_type": "code",
   "execution_count": 6,
   "id": "54dd5e10",
   "metadata": {},
   "outputs": [
    {
     "data": {
      "text/plain": [
       "'C:\\\\Users\\\\HP\\\\anaconda3'"
      ]
     },
     "execution_count": 6,
     "metadata": {},
     "output_type": "execute_result"
    }
   ],
   "source": [
    "os.getcwd()"
   ]
  },
  {
   "cell_type": "code",
   "execution_count": 13,
   "id": "a5c524e3",
   "metadata": {},
   "outputs": [],
   "source": [
    "os.chdir('C:\\\\Users\\\\HP\\\\Downloads\\\\enron1')"
   ]
  },
  {
   "cell_type": "code",
   "execution_count": 35,
   "id": "04a84436",
   "metadata": {},
   "outputs": [
    {
     "name": "stdout",
     "output_type": "stream",
     "text": [
      "skipped 2248.2004-09-23.GP.spam.txt\n",
      "skipped 2526.2004-10-17.GP.spam.txt\n",
      "skipped 2698.2004-10-31.GP.spam.txt\n",
      "skipped 4566.2005-05-24.GP.spam.txt\n",
      "                                name  \\\n",
      "0     0001.1999-12-10.farmer.ham.txt   \n",
      "1     0002.1999-12-13.farmer.ham.txt   \n",
      "2     0003.1999-12-14.farmer.ham.txt   \n",
      "3     0004.1999-12-14.farmer.ham.txt   \n",
      "4     0005.1999-12-14.farmer.ham.txt   \n",
      "...                              ...   \n",
      "5163     5163.2005-09-06.GP.spam.txt   \n",
      "5164     5164.2005-09-06.GP.spam.txt   \n",
      "5165     5167.2005-09-06.GP.spam.txt   \n",
      "5166     5170.2005-09-06.GP.spam.txt   \n",
      "5167     5171.2005-09-06.GP.spam.txt   \n",
      "\n",
      "                                                content category  \n",
      "0               Subject: christmas tree farm pictures\\n      ham  \n",
      "1     Subject: vastar resources , inc .\\ngary , prod...      ham  \n",
      "2     Subject: calpine daily gas nomination\\n- calpi...      ham  \n",
      "3     Subject: re : issue\\nfyi - see note below - al...      ham  \n",
      "4     Subject: meter 7268 nov allocation\\nfyi .\\n- -...      ham  \n",
      "...                                                 ...      ...  \n",
      "5163  Subject: our pro - forma invoice attached\\ndiv...     spam  \n",
      "5164  Subject: str _ rndlen ( 2 - 4 ) } { extra _ ti...     spam  \n",
      "5165  Subject: check me out !\\n61 bb\\nhey derm\\nbbbb...     spam  \n",
      "5166  Subject: hot jobs\\nglobal marketing specialtie...     spam  \n",
      "5167  Subject: save up to 89 % on ink + no shipping ...     spam  \n",
      "\n",
      "[5168 rows x 3 columns]\n"
     ]
    }
   ],
   "source": [
    "import pandas as pd\n",
    "import os\n",
    "\n",
    "def read_spam():\n",
    "    category = 'spam'\n",
    "    directory = './enron1/spam'\n",
    "    return read_category(category, directory)\n",
    "\n",
    "def read_ham():\n",
    "    category = 'ham'\n",
    "    directory = './enron1/ham'\n",
    "    return read_category(category, directory)\n",
    "\n",
    "def read_category(category, directory):\n",
    "    emails = []\n",
    "    for filename in os.listdir(directory):\n",
    "        if not filename.endswith(\".txt\"):\n",
    "            continue\n",
    "        with open(os.path.join(directory, filename), 'r') as fp:\n",
    "            try:\n",
    "                content = fp.read()\n",
    "                emails.append({'name': filename, 'content': content, 'category': category})\n",
    "            except:\n",
    "                print(f'skipped {filename}')\n",
    "    return emails\n",
    "\n",
    "ham = read_ham()\n",
    "spam = read_spam()\n",
    "\n",
    "# Create DataFrames from records\n",
    "df_ham = pd.DataFrame.from_records(ham)\n",
    "df_spam = pd.DataFrame.from_records(spam)\n",
    "\n",
    "# Concatenate DataFrames\n",
    "df = pd.concat([df_ham, df_spam], ignore_index=True)\n",
    "\n",
    "# Print or use the resulting DataFrame df as needed\n",
    "print(df)\n"
   ]
  },
  {
   "cell_type": "code",
   "execution_count": 36,
   "id": "71dff57d",
   "metadata": {},
   "outputs": [],
   "source": [
    "import re\n",
    "\n",
    "def preprocessor(e):\n",
    "    return re.sub('[^A-Za-z]', ' ', e).lower()"
   ]
  },
  {
   "cell_type": "code",
   "execution_count": 37,
   "id": "9483e2ae",
   "metadata": {},
   "outputs": [
    {
     "name": "stderr",
     "output_type": "stream",
     "text": [
      "C:\\Users\\HP\\anaconda3\\Lib\\site-packages\\sklearn\\linear_model\\_logistic.py:460: ConvergenceWarning: lbfgs failed to converge (status=1):\n",
      "STOP: TOTAL NO. of ITERATIONS REACHED LIMIT.\n",
      "\n",
      "Increase the number of iterations (max_iter) or scale the data as shown in:\n",
      "    https://scikit-learn.org/stable/modules/preprocessing.html\n",
      "Please also refer to the documentation for alternative solver options:\n",
      "    https://scikit-learn.org/stable/modules/linear_model.html#logistic-regression\n",
      "  n_iter_i = _check_optimize_result(\n"
     ]
    },
    {
     "name": "stdout",
     "output_type": "stream",
     "text": [
      "Accuracy:\n",
      "0.9748549323017408\n",
      "\n",
      "Confusion Matrix:\n",
      "[[729  16]\n",
      " [ 10 279]]\n",
      "\n",
      "Detailed Statistics:\n",
      "              precision    recall  f1-score   support\n",
      "\n",
      "         ham       0.99      0.98      0.98       745\n",
      "        spam       0.95      0.97      0.96       289\n",
      "\n",
      "    accuracy                           0.97      1034\n",
      "   macro avg       0.97      0.97      0.97      1034\n",
      "weighted avg       0.98      0.97      0.97      1034\n",
      "\n",
      "\n"
     ]
    }
   ],
   "source": [
    "from sklearn.feature_extraction.text import CountVectorizer\n",
    "from sklearn.model_selection import train_test_split\n",
    "from sklearn.linear_model import LogisticRegression\n",
    "from sklearn.metrics import accuracy_score, confusion_matrix, classification_report\n",
    "\n",
    "# The CountVectorizer converts a text sample into a vector (think of it as an array of floats).\n",
    "# Each entry in the vector corresponds to a single word and the value is the number of times the word appeared.\n",
    "# Instantiate a CountVectorizer. Make sure to include the preprocessor you previously wrote in the constructor.\n",
    "vectorizer = CountVectorizer(preprocessor=preprocessor)\n",
    "\n",
    "# Use train_test_split to split the dataset into a train dataset and a test dataset.\n",
    "# The machine learning model learns from the train dataset.\n",
    "# Then the trained model is tested on the test dataset to see if it actually learned anything.\n",
    "# If it just memorized for example, then it would have a low accuracy on the test dataset and a high accuracy on the train dataset.\n",
    "X_train,X_test,y_train,y_test = train_test_split(df[\"content\"],df[\"category\"],test_size=0.2,random_state=1)\n",
    "\n",
    "# Use the vectorizer to transform the existing dataset into a form in which the model can learn from.\n",
    "# Remember that simple machine learning models operate on numbers, which the CountVectorizer conveniently helped us do.\n",
    "X_train_df = vectorizer.fit_transform(X_train)\n",
    "\n",
    "# Use the LogisticRegression model to fit to the train dataset.\n",
    "# You may remember y = mx + b and Linear Regression from high school. Here, we fitted a scatter plot to a line.\n",
    "# Logistic Regression is another form of regression. \n",
    "# However, Logistic Regression helps us determine if a point should be in category A or B, which is a perfect fit.\n",
    "model = LogisticRegression()\n",
    "model.fit(X_train_df,y_train)\n",
    "\n",
    "# Validate that the model has learned something.\n",
    "# Recall the model operates on vectors. First transform the test set using the vectorizer. \n",
    "# Then generate the predictions.\n",
    "X_test_df = vectorizer.transform(X_test)\n",
    "y_pred = model.predict(X_test_df)\n",
    "\n",
    "# We now want to see how we have done. We will be using three functions.\n",
    "# `accuracy_score` tells us how well we have done. \n",
    "# 90% means that every 9 of 10 entries from the test dataset were predicted accurately.\n",
    "# The `confusion_matrix` is a 2x2 matrix that gives us more insight.\n",
    "# The top left shows us how many ham emails were predicted to be ham (that's good!).\n",
    "# The bottom right shows us how many spam emails were predicted to be spam (that's good!).\n",
    "# The other two quadrants tell us the misclassifications.\n",
    "# Finally, the `classification_report` gives us detailed statistics which you may have seen in a statistics class.\n",
    "print(f'Accuracy:\\n{accuracy_score(y_test,y_pred)}\\n')\n",
    "print(f'Confusion Matrix:\\n{confusion_matrix(y_test,y_pred)}\\n')\n",
    "print(f'Detailed Statistics:\\n{classification_report(y_test,y_pred)}\\n')"
   ]
  },
  {
   "cell_type": "code",
   "execution_count": 38,
   "id": "d009d10d",
   "metadata": {},
   "outputs": [
    {
     "name": "stdout",
     "output_type": "stream",
     "text": [
      "\n",
      "0.9465583107441584 http\n",
      "0.8661511807584313 prices\n",
      "0.8151801052435645 no\n",
      "0.7514073777428096 pain\n",
      "0.7224498270475626 only\n",
      "0.7189657479854644 paliourg\n",
      "0.7186422736056727 money\n",
      "0.6930449003845621 more\n",
      "0.6866426430710832 remove\n",
      "0.6802618705871066 removed\n",
      "\n",
      "-1.5991102521196645 enron\n",
      "-1.5480736796575165 attached\n",
      "-1.4054637695531058 daren\n",
      "-1.382226358686004 thanks\n",
      "-1.3566541123934064 doc\n",
      "-1.1859262189523359 deal\n",
      "-1.1422474341911573 xls\n",
      "-1.124174639477865 meter\n",
      "-1.060026121784396 hpl\n",
      "-1.0217018113613179 neon\n"
     ]
    }
   ],
   "source": [
    "# Let's see which features (aka columns) the vectorizer created. \n",
    "# They should be all the words that were contained in the training dataset.\n",
    "features = vectorizer.get_feature_names_out()\n",
    "\n",
    "# You may be wondering what a machine learning model is tangibly. It is just a collection of numbers. \n",
    "# You can access these numbers known as \"coefficients\" from the coef_ property of the model\n",
    "# We will be looking at coef_[0] which represents the importance of each feature.\n",
    "# What does importance mean in this context?\n",
    "# Some words are more important than others for the model.\n",
    "# It's nothing personal, just that spam emails tend to contain some words more frequently.\n",
    "# This indicates to the model that having that word would make a new email more likely to be spam.\n",
    "importance = model.coef_[0]\n",
    "\n",
    "# Iterate over importance and find the top 10 positive features with the largest magnitude.\n",
    "# Similarly, find the top 10 negative features with the largest magnitude.\n",
    "# Positive features correspond to spam. Negative features correspond to ham.\n",
    "# You will see that `http` is the strongest feature that corresponds to spam emails. \n",
    "# It makes sense. Spam emails often want you to click on a link.\n",
    "l = list(enumerate(importance))\n",
    "print()\n",
    "l.sort(key=lambda e: e[1], reverse=True)\n",
    "for i,imp in l[:10]:\n",
    "    print(imp, features[i])\n",
    "print()\n",
    "l.sort(key=lambda e: -e[1], reverse=True)\n",
    "for i,imp in l[:10]:\n",
    "    print(imp, features[i])"
   ]
  },
  {
   "cell_type": "code",
   "execution_count": null,
   "id": "167eb048",
   "metadata": {},
   "outputs": [],
   "source": [
    "ALL DONE!\n"
   ]
  }
 ],
 "metadata": {
  "kernelspec": {
   "display_name": "Python 3 (ipykernel)",
   "language": "python",
   "name": "python3"
  },
  "language_info": {
   "codemirror_mode": {
    "name": "ipython",
    "version": 3
   },
   "file_extension": ".py",
   "mimetype": "text/x-python",
   "name": "python",
   "nbconvert_exporter": "python",
   "pygments_lexer": "ipython3",
   "version": "3.11.5"
  }
 },
 "nbformat": 4,
 "nbformat_minor": 5
}
